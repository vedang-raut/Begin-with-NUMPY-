{
 "cells": [
  {
   "cell_type": "code",
   "execution_count": 1,
   "id": "f6b12b7e",
   "metadata": {},
   "outputs": [],
   "source": [
    "import numpy as np\n"
   ]
  },
  {
   "cell_type": "code",
   "execution_count": 10,
   "id": "3a8e88da",
   "metadata": {},
   "outputs": [],
   "source": [
    "array=np.array([[2,3,4,5,7]], np.int64)"
   ]
  },
  {
   "cell_type": "code",
   "execution_count": 11,
   "id": "58685aca",
   "metadata": {},
   "outputs": [
    {
     "data": {
      "text/plain": [
       "array([4, 5, 7], dtype=int64)"
      ]
     },
     "execution_count": 11,
     "metadata": {},
     "output_type": "execute_result"
    }
   ],
   "source": [
    "array[0,2:]"
   ]
  },
  {
   "cell_type": "code",
   "execution_count": null,
   "id": "7cd00a94",
   "metadata": {},
   "outputs": [],
   "source": []
  }
 ],
 "metadata": {
  "kernelspec": {
   "display_name": "Python 3 (ipykernel)",
   "language": "python",
   "name": "python3"
  },
  "language_info": {
   "codemirror_mode": {
    "name": "ipython",
    "version": 3
   },
   "file_extension": ".py",
   "mimetype": "text/x-python",
   "name": "python",
   "nbconvert_exporter": "python",
   "pygments_lexer": "ipython3",
   "version": "3.9.13"
  }
 },
 "nbformat": 4,
 "nbformat_minor": 5
}
